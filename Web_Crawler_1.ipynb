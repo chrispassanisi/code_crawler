{
  "cells": [
    {
      "cell_type": "markdown",
      "metadata": {
        "id": "view-in-github",
        "colab_type": "text"
      },
      "source": [
        "<a href=\"https://colab.research.google.com/github/chrispassanisi/code_crawler/blob/main/Web_Crawler_1.ipynb\" target=\"_parent\"><img src=\"https://colab.research.google.com/assets/colab-badge.svg\" alt=\"Open In Colab\"/></a>"
      ]
    },
    {
      "cell_type": "code",
      "execution_count": null,
      "metadata": {
        "colab": {
          "base_uri": "https://localhost:8080/"
        },
        "id": "zOtfy3I6b-93",
        "outputId": "a1b8c11d-e3bd-4463-f310-6ca67b01cb6b"
      },
      "outputs": [
        {
          "name": "stdout",
          "output_type": "stream",
          "text": [
            "Requirement already satisfied: requests in /usr/local/lib/python3.10/dist-packages (2.32.3)\n",
            "Requirement already satisfied: beautifulsoup4 in /usr/local/lib/python3.10/dist-packages (4.12.3)\n",
            "Requirement already satisfied: charset-normalizer<4,>=2 in /usr/local/lib/python3.10/dist-packages (from requests) (3.4.0)\n",
            "Requirement already satisfied: idna<4,>=2.5 in /usr/local/lib/python3.10/dist-packages (from requests) (3.10)\n",
            "Requirement already satisfied: urllib3<3,>=1.21.1 in /usr/local/lib/python3.10/dist-packages (from requests) (2.2.3)\n",
            "Requirement already satisfied: certifi>=2017.4.17 in /usr/local/lib/python3.10/dist-packages (from requests) (2024.8.30)\n",
            "Requirement already satisfied: soupsieve>1.2 in /usr/local/lib/python3.10/dist-packages (from beautifulsoup4) (2.6)\n"
          ]
        }
      ],
      "source": [
        "pip install requests beautifulsoup4"
      ]
    },
    {
      "cell_type": "code",
      "execution_count": null,
      "metadata": {
        "id": "8Oq27Qp9cmuc"
      },
      "outputs": [],
      "source": [
        "import requests\n",
        "from bs4 import BeautifulSoup"
      ]
    },
    {
      "cell_type": "code",
      "execution_count": null,
      "metadata": {
        "id": "0PcpO8JHdGjM"
      },
      "outputs": [],
      "source": [
        "url = \"https://example.com/page-to-scrape\"\n",
        "# I want to scrape all of the pages on one website.\n",
        "# I need a parser that can \"jump\" from web page to web page on a website."
      ]
    },
    {
      "cell_type": "code",
      "execution_count": null,
      "metadata": {
        "id": "foIhZfySjNoM"
      },
      "outputs": [],
      "source": [
        "from urllib.parse import urljoin, urlparse\n",
        "import time\n",
        "# Looking for websites on Google that have the phrases \"digital twin networks\" and \"personalized simulations of the human body.\"\n",
        "# Tried using interactive agents to find this info on the web, but didn't have success.\n",
        "# Thinking about crawling https://www.google.com/search?q or someone's blog for answers to science questions.\n",
        "# We should probably use a Depth-First Search crawling strategy (follow a single link from the homepage and explore all subsequent links)"
      ]
    },
    {
      "cell_type": "code",
      "execution_count": null,
      "metadata": {
        "colab": {
          "background_save": true,
          "base_uri": "https://localhost:8080/"
        },
        "id": "0Ysge6famwm0",
        "outputId": "a7b73292-efda-4cbd-d7e5-03165bb7ef0c"
      },
      "outputs": [
        {
          "name": "stdout",
          "output_type": "stream",
          "text": [
            "Visiting: https://blog.codinghorror.com/\n",
            "Visiting: https://blog.codinghorror.com\n",
            "Visiting: https://blog.codinghorror.com/i-fight-for-the-users/\n",
            "Visiting: https://www.wired.com/story/god-did-us-a-favor-by-destroying-twitter/?ref=blog.codinghorror.com\n",
            "Visiting: https://www.rollingstone.com/culture/culture-features/elon-musk-isnt-funny-bad-jokes-twitter-1234712950/?ref=blog.codinghorror.com\n",
            "Visiting: https://www.vanityfair.com/news/2022/04/elon-musk-twitter-terrible-things-hes-said-and-done?ref=blog.codinghorror.com\n",
            "Visiting: https://blog.codinghorror.com/twitter-service-vs-platform/\n",
            "Visiting: https://www.gbnews.com/news/world/elon-musk-x-twitter-purchase-daughter-jenna-musk-woke-virus?ref=blog.codinghorror.com\n",
            "Visiting: https://blog.codinghorror.com/are-you-a-digital-sharecropper/\n",
            "Visiting: https://discourse.org/?ref=blog.codinghorror.com\n",
            "Visiting: https://en.wikipedia.org/wiki/Tron?ref=blog.codinghorror.com\n",
            "Visiting: https://en.wikipedia.org/wiki/Mastodon_(social_network)?ref=blog.codinghorror.com\n",
            "Visiting: https://infosec.exchange/@codinghorror?ref=blog.codinghorror.com\n",
            "Visiting: https://en.wikipedia.org/wiki/The_Trevor_Project?ref=blog.codinghorror.com\n",
            "Visiting: https://mastodon.social/@Horse_ebooks?ref=blog.codinghorror.com\n",
            "Visiting: https://www.ebay.com/itm/225903779136?ref=blog.codinghorror.com\n",
            "Error fetching https://www.ebay.com/itm/225903779136?ref=blog.codinghorror.com: 404 Client Error: Not Found for url: https://www.ebay.com/itm/225903779136?ref=blog.codinghorror.com\n",
            "Visiting: https://www.ebay.com/itm/225903780761?ref=blog.codinghorror.com\n",
            "Error fetching https://www.ebay.com/itm/225903780761?ref=blog.codinghorror.com: 404 Client Error: Not Found for url: https://www.ebay.com/itm/225903780761?ref=blog.codinghorror.com\n",
            "Visiting: https://www.ebay.com/itm/225903784597?ref=blog.codinghorror.com\n",
            "Error fetching https://www.ebay.com/itm/225903784597?ref=blog.codinghorror.com: 404 Client Error: Not Found for url: https://www.ebay.com/itm/225903784597?ref=blog.codinghorror.com\n",
            "Visiting: https://www.ebay.com/itm/225903785269?ref=blog.codinghorror.com\n",
            "Error fetching https://www.ebay.com/itm/225903785269?ref=blog.codinghorror.com: 404 Client Error: Not Found for url: https://www.ebay.com/itm/225903785269?ref=blog.codinghorror.com\n",
            "Visiting: https://www.ebay.com/itm/225903785648?ref=blog.codinghorror.com\n",
            "Error fetching https://www.ebay.com/itm/225903785648?ref=blog.codinghorror.com: 404 Client Error: Not Found for url: https://www.ebay.com/itm/225903785648?ref=blog.codinghorror.com\n",
            "Visiting: https://www.ebay.com/itm/225903786591?ref=blog.codinghorror.com\n",
            "Error fetching https://www.ebay.com/itm/225903786591?ref=blog.codinghorror.com: 404 Client Error: Not Found for url: https://www.ebay.com/itm/225903786591?ref=blog.codinghorror.com\n",
            "Visiting: https://www.ebay.com/itm/225903787053?ref=blog.codinghorror.com\n",
            "Error fetching https://www.ebay.com/itm/225903787053?ref=blog.codinghorror.com: 404 Client Error: Not Found for url: https://www.ebay.com/itm/225903787053?ref=blog.codinghorror.com\n",
            "Visiting: https://www.ebay.com/itm/225903788754?ref=blog.codinghorror.com\n",
            "Error fetching https://www.ebay.com/itm/225903788754?ref=blog.codinghorror.com: 404 Client Error: Not Found for url: https://www.ebay.com/itm/225903788754?ref=blog.codinghorror.com\n",
            "Visiting: https://www.ebay.com/itm/225903789412?ref=blog.codinghorror.com\n",
            "Error fetching https://www.ebay.com/itm/225903789412?ref=blog.codinghorror.com: 404 Client Error: Not Found for url: https://www.ebay.com/itm/225903789412?ref=blog.codinghorror.com\n",
            "Visiting: https://www.ebay.com/itm/225903789881?ref=blog.codinghorror.com\n",
            "Error fetching https://www.ebay.com/itm/225903789881?ref=blog.codinghorror.com: 404 Client Error: Not Found for url: https://www.ebay.com/itm/225903789881?ref=blog.codinghorror.com\n",
            "Visiting: https://blog.codinghorror.com/i-fight-for-the-users/#discourse-comments\n",
            "Visiting: https://blog.codinghorror.com/the-2030-self-driving-car-bet/\n",
            "Visiting: https://en.wikipedia.org/wiki/John_Carmack?ref=blog.codinghorror.com\n",
            "Visiting: https://www.sae.org/binaries/content/assets/cm/content/blog/sae-j3016-visual-chart_5.3.21.pdf?ref=blog.codinghorror.com\n"
          ]
        },
        {
          "name": "stderr",
          "output_type": "stream",
          "text": [
            "WARNING:bs4.dammit:Some characters could not be decoded, and were replaced with REPLACEMENT CHARACTER.\n"
          ]
        },
        {
          "name": "stdout",
          "output_type": "stream",
          "text": [
            "Visiting: https://twitter.com/codinghorror?ref_src=twsrc%5Etfw&ref=blog.codinghorror.com\n",
            "Visiting: https://twitter.com/ID_AA_Carmack/status/1499803694522589187?ref_src=twsrc%5Etfw&ref=blog.codinghorror.com\n",
            "Visiting: https://blog.codinghorror.com/i-tried-vr-and-it-was-just-ok/\n",
            "Visiting: https://blog.codinghorror.com/you-dont-need-millions-of-dollars/\n",
            "Visiting: https://www.amazon.com/exec/obidos/ASIN/0812972155/codihorr-20?ref=blog.codinghorror.com\n",
            "Error fetching https://www.amazon.com/exec/obidos/ASIN/0812972155/codihorr-20?ref=blog.codinghorror.com: 503 Server Error:  for url: https://www.amazon.com/exec/obidos/ASIN/0812972155/codihorr-20?ref=blog.codinghorror.com\n",
            "Visiting: https://blog.codinghorror.com/updating-the-single-most-influential-book-of-the-basic-era/\n",
            "Visiting: https://blog.codinghorror.com/the-2030-self-driving-car-bet/#discourse-comments\n",
            "Visiting: https://blog.codinghorror.com/everything-i-needed-to-know-about-programming-i-learned-from-basic/\n",
            "Visiting: https://en.wikipedia.org/wiki/BASIC_Computer_Games?ref=blog.codinghorror.com\n",
            "Visiting: https://www.atariarchives.org/basicgames/showpage.php?page=2&ref=blog.codinghorror.com\n",
            "Visiting: https://www.atarimagazines.com/creative/v10n11/66_Dave_tells_Ahl__the_hist.php?ref=blog.codinghorror.com\n",
            "Visiting: https://blog.codinghorror.com/the-best-of-creative-computing/\n",
            "Visiting: https://en.wikipedia.org/wiki/Creative_Computing_(magazine)?ref=blog.codinghorror.com\n",
            "Visiting: https://en.wikipedia.org/wiki/Apple_II?ref=blog.codinghorror.com\n",
            "Visiting: https://en.wikipedia.org/wiki/Commodore_PET?ref=blog.codinghorror.com\n",
            "Visiting: https://en.wikipedia.org/wiki/TRS-80?ref=blog.codinghorror.com\n",
            "Visiting: https://social.technet.microsoft.com/wiki/contents/articles/16765.basic-computer-games-small-basic-edition.aspx?ref=blog.codinghorror.com\n",
            "Visiting: https://pastebin.com/j4jzGd4V?ref=blog.codinghorror.com\n",
            "Visiting: https://pastebin.com/5q1B0t2C?ref=blog.codinghorror.com\n",
            "Visiting: https://blog.codinghorror.com/the-greatest-invention-in-computer-science/\n",
            "Visiting: https://en.wikipedia.org/wiki/David_H._Ahl?ref=blog.codinghorror.com\n",
            "Visiting: https://time.com/69316/basic/?ref=blog.codinghorror.com\n",
            "Visiting: https://en.wikipedia.org/wiki/BASIC_Computer_Games?ref=blog.codinghorror.com#Reception\n",
            "Visiting: https://github.com/coding-horror/basic-computer-games?ref=blog.codinghorror.com\n",
            "Visiting: https://en.wikipedia.org/wiki/Early_mainframe_games?ref=blog.codinghorror.com\n",
            "Visiting: http://www.bekerbots.com/botbooks.htm?ref=blog.codinghorror.com\n",
            "Visiting: https://github.com/nanochess?ref=blog.codinghorror.com\n",
            "Visiting: https://github.com/journich?ref=blog.codinghorror.com\n",
            "Visiting: https://github.com/tsmaster?ref=blog.codinghorror.com\n",
            "Visiting: https://github.com/NezumiRonin?ref=blog.codinghorror.com\n",
            "Visiting: https://github.com/danielpiron?ref=blog.codinghorror.com\n",
            "Visiting: https://github.com/darrencardenas?ref=blog.codinghorror.com\n",
            "Visiting: https://github.com/qequ?ref=blog.codinghorror.com\n",
            "Visiting: https://github.com/jamiemccarthy?ref=blog.codinghorror.com\n",
            "Visiting: https://github.com/rbamforth?ref=blog.codinghorror.com\n",
            "Visiting: https://github.com/pgruderman?ref=blog.codinghorror.com\n",
            "Visiting: https://github.com/pczajkowski?ref=blog.codinghorror.com\n",
            "Visiting: https://github.com/jkboyce?ref=blog.codinghorror.com\n",
            "Visiting: https://github.com/epvanhouten?ref=blog.codinghorror.com\n",
            "Visiting: https://github.com/clamey?ref=blog.codinghorror.com\n",
            "Visiting: https://github.com/kt--?ref=blog.codinghorror.com\n",
            "Visiting: https://github.com/infovore?ref=blog.codinghorror.com\n",
            "Visiting: https://github.com/rjnienaber?ref=blog.codinghorror.com\n",
            "Visiting: https://github.com/marvin826?ref=blog.codinghorror.com\n",
            "Visiting: https://github.com/aldrinm?ref=blog.codinghorror.com\n",
            "Visiting: https://github.com/olliehcrook?ref=blog.codinghorror.com\n",
            "Visiting: https://github.com/gcarreno?ref=blog.codinghorror.com\n",
            "Visiting: https://github.com/NahidMondol?ref=blog.codinghorror.com\n",
            "Visiting: https://girlswhocode.com/?ref=blog.codinghorror.com\n",
            "Visiting: https://github.com/coding-horror/basic-computer-games/blob/main/README.md?ref=blog.codinghorror.com\n",
            "Visiting: https://discourse.codinghorror.com/t/updating-101-basic-computer-games-for-2022-and-beyond/7927?ref=blog.codinghorror.com\n",
            "Visiting: https://blog.codinghorror.com/remember-this-stuff-is-supposed-to-be-fun/\n",
            "Visiting: https://blog.codinghorror.com/updating-the-single-most-influential-book-of-the-basic-era/#discourse-comments\n",
            "Visiting: https://blog.codinghorror.com/building-a-pc-part-ix-downsizing/\n",
            "Visiting: https://blog.codinghorror.com/the-pc-is-over/\n",
            "Visiting: https://blog.codinghorror.com/building-a-pc-part-viii-iterating/\n",
            "Visiting: https://blog.codinghorror.com/building-a-pc-part-vii-rebooting/\n",
            "Visiting: https://blog.codinghorror.com/building-a-pc-part-vi-rebuilding/\n",
            "Visiting: https://blog.codinghorror.com/building-a-pc-part-v-upgrading/\n",
            "Visiting: https://blog.codinghorror.com/building-a-pc-part-iv-now-its-your-turn/\n",
            "Visiting: https://blog.codinghorror.com/building-a-pc-part-iii-overclocking/\n",
            "Visiting: https://blog.codinghorror.com/building-a-pc-part-ii/\n",
            "Visiting: https://blog.codinghorror.com/building-a-pc-part-i/\n",
            "Visiting: https://www.dan-cases.com/dana4.php?ref=blog.codinghorror.com\n",
            "Visiting: https://streacom.com/products/da2-chassis/?ref=blog.codinghorror.com\n",
            "Error fetching https://streacom.com/products/da2-chassis/?ref=blog.codinghorror.com: 404 Client Error: Not Found for url: https://streacom.com/products/da2-chassis/?ref=blog.codinghorror.com\n",
            "Visiting: http://i.imgur.com/odoYjle.jpg?ref=blog.codinghorror.com\n",
            "Error fetching http://i.imgur.com/odoYjle.jpg?ref=blog.codinghorror.com: 429 Client Error: Unknown Error for url: http://i.imgur.com/odoYjle.jpg?ref=blog.codinghorror.com\n",
            "Visiting: https://www.silverstonetek.com/raven/product-rv.php?pid=606&ref=blog.codinghorror.com\n",
            "Error fetching https://www.silverstonetek.com/raven/product-rv.php?pid=606&ref=blog.codinghorror.com: 403 Client Error: Forbidden for url: https://www.silverstonetek.com/raven/product-rv.php?pid=606&ref=blog.codinghorror.com\n",
            "Visiting: https://ncases.com/products/m1?ref=blog.codinghorror.com\n",
            "Visiting: https://blog.codinghorror.com/the-golden-age-of-x86-gaming/\n",
            "Visiting: https://www.intel.com/content/www/us/en/products/processors/core/i9-processors/i9-9900ks.html?ref=blog.codinghorror.com\n",
            "Visiting: http://www.cryorig.com/h7.php?ref=blog.codinghorror.com\n",
            "Error fetching http://www.cryorig.com/h7.php?ref=blog.codinghorror.com: 404 Client Error: Not Found for url: https://www.cryorig.com/h7.php?ref=blog.codinghorror.com\n",
            "Visiting: https://streacom.com/downloads/ug/da2-user-guide-180901.pdf?ref=blog.codinghorror.com\n",
            "Error fetching https://streacom.com/downloads/ug/da2-user-guide-180901.pdf?ref=blog.codinghorror.com: 404 Client Error: Not Found for url: https://streacom.com/downloads/ug/da2-user-guide-180901.pdf?ref=blog.codinghorror.com\n",
            "Visiting: https://blog.codinghorror.com/is-your-computer-stable/\n",
            "Visiting: https://www.reddit.com/r/sffpc/comments/drvb47/your_scientists_were_so_preoccupied_with_whether/?ref=blog.codinghorror.com\n",
            "Error fetching https://www.reddit.com/r/sffpc/comments/drvb47/your_scientists_were_so_preoccupied_with_whether/?ref=blog.codinghorror.com: 403 Client Error: Blocked for url: https://www.reddit.com/r/sffpc/comments/drvb47/your_scientists_were_so_preoccupied_with_whether/?ref=blog.codinghorror.com\n",
            "Visiting: https://yuel-beast-designs.myshopify.com/products/motif-monument?ref=blog.codinghorror.com\n",
            "Visiting: https://www.ibidemgroup.com/edu/traduccion-como-construir-minipc/?ref=blog.codinghorror.com\n",
            "Visiting: https://blog.codinghorror.com/building-a-pc-part-ix-downsizing/#discourse-comments\n",
            "Visiting: https://blog.codinghorror.com/the-rise-of-the-electric-scooter/\n",
            "Visiting: https://www.bloomberg.com/opinion/articles/2019-04-12/electric-vehicle-battery-shrinks-and-so-does-the-total-cost?ref=blog.codinghorror.com\n",
            "Visiting: https://blog.codinghorror.com/geek-transportation-systems/\n",
            "Visiting: https://www.sfgate.com/business/article/Sebastopol-s-Zap-Power-Systems-is-banking-on-3067718.php?ref=blog.codinghorror.com\n",
            "Error fetching https://www.sfgate.com/business/article/Sebastopol-s-Zap-Power-Systems-is-banking-on-3067718.php?ref=blog.codinghorror.com: 403 Client Error: Forbidden for url: https://www.sfgate.com/business/article/Sebastopol-s-Zap-Power-Systems-is-banking-on-3067718.php?ref=blog.codinghorror.com\n",
            "Visiting: https://blog.codinghorror.com/electric-geek-transportation-systems/\n",
            "Visiting: https://camelcamelcamel.com/Xiaomi-Electric-Long-range-Fold-n-Carry-Ultra-Lightweight/product/B076KKX4BC?ref=blog.codinghorror.com\n",
            "Error fetching https://camelcamelcamel.com/Xiaomi-Electric-Long-range-Fold-n-Carry-Ultra-Lightweight/product/B076KKX4BC?ref=blog.codinghorror.com: 403 Client Error: Forbidden for url: https://camelcamelcamel.com/Xiaomi-Electric-Long-range-Fold-n-Carry-Ultra-Lightweight/product/B076KKX4BC?ref=blog.codinghorror.com\n",
            "Visiting: https://en.wikipedia.org/wiki/Bird_(company)?ref=blog.codinghorror.com#Vehicles\n",
            "Visiting: https://www.latimes.com/business/technology/la-fi-tn-bird-scooters-money-profit-strategy-20190505-story.html?ref=blog.codinghorror.com\n",
            "Error fetching https://www.latimes.com/business/technology/la-fi-tn-bird-scooters-money-profit-strategy-20190505-story.html?ref=blog.codinghorror.com: 403 Client Error: Forbidden for url: https://www.latimes.com/business/technology/la-fi-tn-bird-scooters-money-profit-strategy-20190505-story.html?ref=blog.codinghorror.com\n",
            "Visiting: https://t.co/OFmb8arZ3j?ref=blog.codinghorror.com\n",
            "Visiting: https://twitter.com/MicromobilityCo/status/1116703423108227072?ref_src=twsrc%5Etfw&ref=blog.codinghorror.com\n",
            "Visiting: https://www.amazon.com/dp/B076KKX4BC/?tag=codihorr-20&ref=blog.codinghorror.com\n",
            "Visiting: https://www.vox.com/technology/2018/11/2/18053650/elon-musk-electric-scooters-dignity-recode-swisher?ref=blog.codinghorror.com\n",
            "Visiting: https://www.techradar.com/news/are-electric-scooters-legal-know-the-law-where-you-live?ref=blog.codinghorror.com\n",
            "Visiting: https://bayareabicyclelaw.com/new-e-scooter-laws-2019/?ref=blog.codinghorror.com\n",
            "Visiting: https://www.ewheels.com/product/new-turbowheel-lightning-957wh-battery-2x-1000w-3600w-motors/?ref=blog.codinghorror.com\n",
            "Error fetching https://www.ewheels.com/product/new-turbowheel-lightning-957wh-battery-2x-1000w-3600w-motors/?ref=blog.codinghorror.com: 404 Client Error: Not Found for url: https://ewheels.com/product/new-turbowheel-lightning-957wh-battery-2x-1000w-3600w-motors?ref=blog.codinghorror.com\n",
            "Visiting: https://www.unagiscooters.com/products/the-scooter?variant=15012683448435&ref=blog.codinghorror.com\n",
            "Visiting: https://fluidfreeride.com/products/mosquito-lightweight-foldable-electric-scooter?ref=blog.codinghorror.com\n",
            "Visiting: https://electrek.co/2019/06/10/widewheel-electric-scooter-off-road-test/?ref=blog.codinghorror.com\n",
            "Visiting: https://www.mi.com/global/mi-electric-scooter-pro/?ref=blog.codinghorror.com\n",
            "Visiting: https://www.gearbest.com/blog/how-to/how-to-install-xiaomi-m365-electric-scooter-firmware-mod-6635?ref=blog.codinghorror.com\n",
            "Error fetching https://www.gearbest.com/blog/how-to/how-to-install-xiaomi-m365-electric-scooter-firmware-mod-6635?ref=blog.codinghorror.com: HTTPSConnectionPool(host='www.gearbest.com', port=443): Max retries exceeded with url: /blog/how-to/how-to-install-xiaomi-m365-electric-scooter-firmware-mod-6635?ref=blog.codinghorror.com (Caused by NameResolutionError(\"<urllib3.connection.HTTPSConnection object at 0x78b19810a0b0>: Failed to resolve 'www.gearbest.com' ([Errno -2] Name or service not known)\"))\n",
            "Visiting: https://en.wikipedia.org/wiki/Segway_Inc.?ref=blog.codinghorror.com\n",
            "Visiting: https://www.wired.com/2009/12/1203segway-unveiled/?ref=blog.codinghorror.com\n",
            "Visiting: https://blog.codinghorror.com/the-rise-of-the-electric-scooter/#discourse-comments\n",
            "Visiting: https://blog.codinghorror.com/page/2/\n",
            "Visiting: https://blog.codinghorror.com/about-me/\n",
            "Visiting: https://www.discourse.org/\n",
            "Visiting: https://stackexchange.com/\n",
            "Visiting: https://commonmark.org/help/\n",
            "Visiting: https://blog.codinghorror.com/recommended-reading-for-developers/\n",
            "Visiting: https://blog.codinghorror.com/rss/\n"
          ]
        },
        {
          "name": "stderr",
          "output_type": "stream",
          "text": [
            "/usr/lib/python3.10/html/parser.py:170: XMLParsedAsHTMLWarning: It looks like you're parsing an XML document using an HTML parser. If this really is an HTML document (maybe it's XHTML?), you can ignore or filter this warning. If it's XML, you should know that using an XML parser will be more reliable. To parse this document as XML, make sure you have the lxml package installed, and pass the keyword argument `features=\"xml\"` into the BeautifulSoup constructor.\n",
            "  k = self.parse_starttag(i)\n"
          ]
        },
        {
          "name": "stdout",
          "output_type": "stream",
          "text": [
            "Visiting: https://follow.it/codinghorror?action=followPub\n",
            "Visiting: https://en.wikipedia.org/wiki/Jeff_Atwood\n",
            "Visiting: https://ghost.org\n",
            "Visiting: https://infosec.exchange/@codinghorror\n",
            "Visiting: #main-content\n",
            "Error fetching #main-content: Invalid URL '#main-content': No scheme supplied. Perhaps you meant https://#main-content?\n",
            "Visiting: https://www.wired.com/account/saved\n",
            "Visiting: https://www.wired.com/\n",
            "Visiting: https://www.wired.com/category/security/\n",
            "Visiting: https://www.wired.com/category/politics/\n",
            "Visiting: https://www.wired.com/category/gear/\n",
            "Visiting: https://www.wired.com/category/big-story/\n",
            "Visiting: https://www.wired.com/category/business/\n",
            "Visiting: https://www.wired.com/category/science/\n",
            "Visiting: https://www.wired.com/category/culture/\n",
            "Visiting: https://www.wired.com/category/ideas/\n",
            "Visiting: https://shop.wired.com/\n",
            "Visiting: https://www.wired.com/search/\n",
            "Visiting: https://www.wired.com/podcasts/\n",
            "Visiting: https://www.wired.com/video/\n",
            "Visiting: https://www.wired.com/newsletter?sourceCode=navbar\n",
            "Visiting: https://www.wired.com/magazine\n",
            "Visiting: http://wired.com/travel\n",
            "Visiting: https://www.wired.com/tag/plaintext/\n",
            "Visiting: https://www.wired.com/tag/wired-classic/\n",
            "Visiting: https://www.wired.com/tag/wired-events/\n",
            "Visiting: https://www.wired.com/category/wiredinsider/\n",
            "Visiting: https://www.wired.com/tag/wired-consulting/ \n",
            "Error fetching https://www.wired.com/tag/wired-consulting/ : 404 Client Error: Not Found for url: https://www.wired.com/tag/wired-consulting/%20/\n",
            "Visiting: https://jobs.wired.com/?source=navbar\n",
            "Visiting: https://www.wired.com/coupons\n",
            "Visiting: https://www.wired.com/author/paul-ford/\n",
            "Visiting: https://www.wired.com/category/ideas\n",
            "Visiting: https://www.facebook.com/dialog/feed?&display=popup&caption=&app_id=719405864858490&link=https%3A%2F%2Fwww.wired.com%2Fstory%2Fgod-did-us-a-favor-by-destroying-twitter%2F%3Futm_source%3Dfacebook%26utm_medium%3Dsocial%26utm_campaign%3Donsite-share%26utm_brand%3Dwired%26utm_social-type%3Dearned\n",
            "Visiting: https://twitter.com/intent/tweet/?url=https%3A%2F%2Fwww.wired.com%2Fstory%2Fgod-did-us-a-favor-by-destroying-twitter%2F%3Futm_source%3Dtwitter%26utm_medium%3Dsocial%26utm_campaign%3Donsite-share%26utm_brand%3Dwired%26utm_social-type%3Dearned&text=&via=wired\n",
            "Visiting: mailto:?subject=&body=https%3A%2F%2Fwww.wired.com%2Fstory%2Fgod-did-us-a-favor-by-destroying-twitter%2F%3Futm_source%3Donsite-share%26utm_medium%3Demail%26utm_campaign%3Donsite-share%26utm_brand%3Dwired\n",
            "Error fetching mailto:?subject=&body=https%3A%2F%2Fwww.wired.com%2Fstory%2Fgod-did-us-a-favor-by-destroying-twitter%2F%3Futm_source%3Donsite-share%26utm_medium%3Demail%26utm_campaign%3Donsite-share%26utm_brand%3Dwired: No connection adapters were found for 'mailto:?subject=&body=https%3A%2F%2Fwww.wired.com%2Fstory%2Fgod-did-us-a-favor-by-destroying-twitter%2F%3Futm_source%3Donsite-share%26utm_medium%3Demail%26utm_campaign%3Donsite-share%26utm_brand%3Dwired'\n",
            "Visiting: #\n",
            "Error fetching #: Invalid URL '#': No scheme supplied. Perhaps you meant https://#?\n",
            "Visiting: https://www.wired.com/story/gospel-of-wealth-according-to-marc-benioff/\n",
            "Visiting: https://www.wired.com/tag/elon-musk/\n",
            "Visiting: https://www.wired.com/tag/twitter/\n",
            "Visiting: https://www.wired.com/story/passkey-portability-fido-alliance/#intcid=_wired-right-rail_dca29f82-8912-4114-86bf-420d592da9de_popular4-1-reranked-by-vidi\n",
            "Visiting: https://www.wired.com/story/breeding-stronger-magic-mushrooms/#intcid=_wired-right-rail_dca29f82-8912-4114-86bf-420d592da9de_popular4-1-reranked-by-vidi\n",
            "Visiting: https://www.wired.com/story/piece-by-piece-director-morgan-neville-will-never-use-ai-again/#intcid=_wired-right-rail_dca29f82-8912-4114-86bf-420d592da9de_popular4-1-reranked-by-vidi\n",
            "Visiting: https://www.wired.com/story/pig-butchering-scams-go-high-tech/#intcid=_wired-right-rail_dca29f82-8912-4114-86bf-420d592da9de_popular4-1-reranked-by-vidi\n",
            "Visiting: https://www.wired.com/tag/discord/\n",
            "Visiting: https://www.wired.com/tag/tiktok\n",
            "Visiting: https://www.wired.com/tag/tumblr\n",
            "Visiting: https://www.wired.com/tag/youtube/\n",
            "Visiting: https://www.wired.com/tag/instagram/\n",
            "Visiting: https://www.wired.com/tag/mastodon/\n",
            "Error fetching https://www.wired.com/tag/mastodon/: HTTPSConnectionPool(host='www.wired.com', port=443): Read timed out. (read timeout=5)\n",
            "Visiting: https://subscribe.wired.com/subscribe/splits/wired/WIR_Edit_Hardcoded?source=HCL_WIR_ARTICLE_SUBSCRIBE_INSET_0\n",
            "Error fetching https://subscribe.wired.com/subscribe/splits/wired/WIR_Edit_Hardcoded?source=HCL_WIR_ARTICLE_SUBSCRIBE_INSET_0: 403 Client Error: Forbidden for url: https://www.wired.com/v2/offers/wir_subscribe?source=SITE_0_CDS_WIR_GLOBAL_HCL_0_CIRCULES_REDIRECT_ZZ\n",
            "Visiting: https://www.wired.com/newsletter/daily?sourceCode=BottomStories\n",
            "Visiting: https://www.wired.com/story/inside-google-mission-to-give-ai-robot-body/\n",
            "Visiting: https://www.wired.com/story/big-interview-after-shark-tank-mark-cuban-just-wants-to-break-shit-especially-the-prescription-drug-industry/\n",
            "Visiting: https://www.wired.com/story/the-worlds-biggest-bitcoin-mine-is-rattling-this-texas-oil-town/\n",
            "Visiting: https://health.wired.com/?sourceCode=BottomStories\n",
            "Visiting: https://www.twitter.com/https://twitter.com/ftrain\n",
            "Visiting: https://www.wired.com/tag/magazine-3102/\n",
            "Visiting: https://www.wired.com/story/how-to-buy-the-right-soundbar/#intcid=recommendations_wired-bottom-recirc-v4_391c3562-b548-4e71-8eea-4088fa779fc4_text2vec1\n",
            "Visiting: https://www.wired.com/story/apple-iphone-ios-18-ipados-18-new-features/#intcid=recommendations_wired-bottom-recirc-v4_391c3562-b548-4e71-8eea-4088fa779fc4_text2vec1\n",
            "Visiting: https://www.wired.com/story/how-to-switch-iphones-or-ipad/#intcid=recommendations_wired-bottom-recirc-v4_391c3562-b548-4e71-8eea-4088fa779fc4_text2vec1\n"
          ]
        }
      ],
      "source": [
        "def crawl_website(start_url):\n",
        "  # Crawls a website, extracts its links, and downloads the server's content.\n",
        "  # This function starts at a given website start_url.\n",
        "  # A given website start_url is the value that's passed through the\n",
        "  # function.\n",
        "\n",
        "  visited_urls = set()\n",
        "  # This is the collection of websites that we've already visited.\n",
        "\n",
        "  urls_to_visit = [start_url]\n",
        "  # Initializes a list and adds start_url as its first element.\n",
        "  # Visits the URL and adds new URLs to the list.\n",
        "  url_count = 0\n",
        "\n",
        "  while urls_to_visit:\n",
        "    # This is a loop (continues execution while a coniditon is true/while urls_to_visit is not empty.\n",
        "    url = urls_to_visit.pop(0)\n",
        "    url_count += 1\n",
        "\n",
        "    # Locates the url in index 0, takes it out of the list, and attaches it to url for processing.\n",
        "    print(f\"Visiting: {url}\")\n",
        "\n",
        "    if url in visited_urls:\n",
        "      continue\n",
        "    visited_urls.add(url)\n",
        "\n",
        "    try:\n",
        "      response = requests.get(url, timeout=5)\n",
        "      # Request and response. Requests html files from the web page/fetches web pages from the Server.\n",
        "      # Server responds (sends us html files).\n",
        "      response.raise_for_status()\n",
        "      # Checks if the request to the server is successful. If not, it raises an exception.\n",
        "    except requests.exceptions.RequestException as e:\n",
        "      print(f\"Error fetching {url}: {e}\")\n",
        "      continue\n",
        "\n",
        "    soup = BeautifulSoup(response.content, 'html.parser')\n",
        "    # From response.content extracts HTML content from the files (stores data)\n",
        "    # HTML parsing and parse tree is created and stored in soup to allow for data analysis.\n",
        "\n",
        "    # Extract links from the page\n",
        "    links = soup.find_all('a', href=True)\n",
        "    for link in links:\n",
        "      href = link['href']\n",
        "      if href.startswith('/'):\n",
        "        href = urljoin(url, href)\n",
        "      if href not in visited_urls and href not in urls_to_visit:\n",
        "        urls_to_visit.append(href)\n",
        "\n",
        "    time.sleep(1)\n",
        "\n",
        "      # Scrape page content\n",
        "      #Indexing: collect all of the data from the links, store it in a database, and make it searchable for users.\n",
        "start_url = \"https://blog.codinghorror.com/\"\n",
        "crawl_website(start_url)"
      ]
    },
    {
      "cell_type": "markdown",
      "metadata": {
        "id": "vCDUXk_PBXD2"
      },
      "source": [
        "What do I need to do so i can use it? I want to be able find specific text. How do I search for text on the web pages. How can I turn this into a simple web app."
      ]
    },
    {
      "cell_type": "code",
      "execution_count": null,
      "metadata": {
        "id": "YSOxYjVIFQeV"
      },
      "outputs": [],
      "source": [
        "# What is the right way to write a README file on GitHub? GitHub Repository etiquette?\n",
        "# Go find code environment computer that's also on the cloud. Push to GitHub from computer?"
      ]
    }
  ],
  "metadata": {
    "colab": {
      "provenance": [],
      "authorship_tag": "ABX9TyP9qQ7sPK7hkdxGn6nzRrez",
      "include_colab_link": true
    },
    "kernelspec": {
      "display_name": "Python 3",
      "name": "python3"
    },
    "language_info": {
      "name": "python"
    }
  },
  "nbformat": 4,
  "nbformat_minor": 0
}