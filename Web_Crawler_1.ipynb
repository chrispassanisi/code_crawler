{
  "cells": [
    {
      "cell_type": "code",
      "execution_count": 6,
      "metadata": {
        "colab": {
          "base_uri": "https://localhost:8080/"
        },
        "id": "zOtfy3I6b-93",
        "outputId": "a6f6ed22-aaae-463e-dba8-0fa7889e985c"
      },
      "outputs": [
        {
          "output_type": "stream",
          "name": "stdout",
          "text": [
            "Requirement already satisfied: requests in /usr/local/lib/python3.10/dist-packages (2.32.3)\n",
            "Requirement already satisfied: beautifulsoup4 in /usr/local/lib/python3.10/dist-packages (4.12.3)\n",
            "Requirement already satisfied: charset-normalizer<4,>=2 in /usr/local/lib/python3.10/dist-packages (from requests) (3.4.0)\n",
            "Requirement already satisfied: idna<4,>=2.5 in /usr/local/lib/python3.10/dist-packages (from requests) (3.10)\n",
            "Requirement already satisfied: urllib3<3,>=1.21.1 in /usr/local/lib/python3.10/dist-packages (from requests) (2.2.3)\n",
            "Requirement already satisfied: certifi>=2017.4.17 in /usr/local/lib/python3.10/dist-packages (from requests) (2024.8.30)\n",
            "Requirement already satisfied: soupsieve>1.2 in /usr/local/lib/python3.10/dist-packages (from beautifulsoup4) (2.6)\n"
          ]
        }
      ],
      "source": [
        "pip install requests beautifulsoup4"
      ]
    },
    {
      "cell_type": "code",
      "execution_count": 7,
      "metadata": {
        "id": "8Oq27Qp9cmuc"
      },
      "outputs": [],
      "source": [
        "import requests\n",
        "from bs4 import BeautifulSoup"
      ]
    },
    {
      "cell_type": "code",
      "execution_count": 8,
      "metadata": {
        "id": "0PcpO8JHdGjM"
      },
      "outputs": [],
      "source": [
        "# I want to scrape all of the pages on one website.\n",
        "# I need a parser that can \"jump\" from web page to web page on a website."
      ]
    },
    {
      "cell_type": "code",
      "execution_count": 9,
      "metadata": {
        "id": "foIhZfySjNoM"
      },
      "outputs": [],
      "source": [
        "from urllib.parse import urljoin, urlparse\n",
        "from urllib.robotparser import RobotFileParser\n",
        "import time\n",
        "\n",
        "def can_fetch(robots_parser, url):\n",
        "  return robots_parser.can_fetch('*', url)\n",
        "# Looking for websites on Google that have the phrases \"digital twin networks\" and \"personalized simulations of the human body.\"\n",
        "# Tried using interactive agents to find this info on the web, but didn't have success.\n",
        "# Thinking about crawling https://www.google.com/search?q or someone's blog for answers to science questions.\n",
        "# We should probably use a Depth-First Search crawling strategy (follow a single link from the homepage and explore all subsequent links)"
      ]
    },
    {
      "cell_type": "code",
      "execution_count": null,
      "metadata": {
        "id": "0Ysge6famwm0"
      },
      "outputs": [],
      "source": [
        "def crawl_website(start_url):\n",
        "  # Crawls a website, extracts its links, and downloads the server's content.\n",
        "  # This function starts at a given website start_url.\n",
        "  # A given website start_url is the value that's passed through the\n",
        "  # function.\n",
        "  parsed_url = urljoin(start_url, '/')\n",
        "  robots_url = urljoin(parsed_url, 'robots.txt')\n",
        "\n",
        "  robots_parser = RobotFileParser()\n",
        "  robots_parser.set_url(robots_url)\n",
        "  robots_parser.read()\n",
        "\n",
        "\n",
        "  visited_urls = set()\n",
        "  # This is the collection of websites that we've already visited.\n",
        "\n",
        "  urls_to_visit = [start_url]\n",
        "  # Initializes a list and adds start_url as its first element.\n",
        "  # Visits the URL and adds new URLs to the list.\n",
        "  url_count = 0\n",
        "\n",
        "  headers = {\n",
        "      'Chris': 'WebCrawler/1.0 (Simple web crawler that looks for/collects foundational code for a prototype of a multimodal neural network. mailto: chris@nexusbios.co.)'\n",
        "  }\n",
        "  while urls_to_visit:\n",
        "    # This is a loop (continues execution while a coniditon is true/while urls_to_visit is not empty.\n",
        "    url = urls_to_visit.pop(0)\n",
        "    url_count += 1\n",
        "\n",
        "    # Locates the url in index 0, takes it out of the list, and attaches it to url for processing.\n",
        "    print(f\"Visiting: {url}\")\n",
        "\n",
        "    if url in visited_urls or not can_fetch(robots_parser, url):\n",
        "      continue\n",
        "    visited_urls.add(url)\n",
        "\n",
        "    try:\n",
        "      response = requests.get(url, headers=headers, timeout=5)\n",
        "      # Request and response. Requests html files from the web page/fetches web pages from the Server.\n",
        "      # Server responds (sends us html files).\n",
        "      response.raise_for_status()\n",
        "      # Checks if the request to the server is successful. If not, it raises an exception.\n",
        "    except requests.exceptions.RequestException as e:\n",
        "      print(f\"Error fetching {url}: {e}\")\n",
        "      continue\n",
        "\n",
        "    soup = BeautifulSoup(response.content, 'html.parser')\n",
        "    # From response.content extracts HTML content from the files (stores data)\n",
        "    # HTML parsing and parse tree is created and stored in soup to allow for data analysis.\n",
        "\n",
        "    # Extract links from the page\n",
        "    links = soup.find_all('a', href=True)\n",
        "    for link in links:\n",
        "      href = link['href']\n",
        "      if href.startswith('/'):\n",
        "        href = urljoin(url, href)\n",
        "      if href not in visited_urls and href not in urls_to_visit:\n",
        "        urls_to_visit.append(href)\n",
        "\n",
        "    time.sleep(1)\n",
        "\n",
        "      # Scrape page content\n",
        "      #Indexing: collect all of the data from the links, store it in a database, and make it searchable for users.\n",
        "start_url = \"https://blog.codinghorror.com/\"\n",
        "crawl_website(start_url)"
      ]
    },
    {
      "cell_type": "code",
      "execution_count": null,
      "metadata": {
        "id": "YSOxYjVIFQeV"
      },
      "outputs": [],
      "source": [
        "# What is the right way to write a README file on GitHub? GitHub Repository etiquette?\n",
        "# Go find code environment computer that's also on the cloud. Push to GitHub from computer?"
      ]
    }
  ],
  "metadata": {
    "colab": {
      "provenance": [],
      "authorship_tag": "ABX9TyNqSOSgADwGuLd5PsMj/9zn"
    },
    "kernelspec": {
      "display_name": "Python 3",
      "name": "python3"
    },
    "language_info": {
      "name": "python"
    }
  },
  "nbformat": 4,
  "nbformat_minor": 0
}